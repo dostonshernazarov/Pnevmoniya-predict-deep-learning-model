{
  "metadata": {
    "kernelspec": {
      "language": "python",
      "display_name": "Python 3",
      "name": "python3"
    },
    "language_info": {
      "name": "python",
      "version": "3.10.13",
      "mimetype": "text/x-python",
      "codemirror_mode": {
        "name": "ipython",
        "version": 3
      },
      "pygments_lexer": "ipython3",
      "nbconvert_exporter": "python",
      "file_extension": ".py"
    },
    "kaggle": {
      "accelerator": "nvidiaTeslaT4",
      "dataSources": [
        {
          "sourceId": 36499,
          "databundleVersionId": 3618301,
          "sourceType": "competition"
        }
      ],
      "dockerImageVersionId": 30733,
      "isInternetEnabled": true,
      "language": "python",
      "sourceType": "notebook",
      "isGpuEnabled": true
    },
    "colab": {
      "name": "Pnevmoniya",
      "provenance": [],
      "include_colab_link": true
    }
  },
  "nbformat_minor": 0,
  "nbformat": 4,
  "cells": [
    {
      "cell_type": "markdown",
      "metadata": {
        "id": "view-in-github",
        "colab_type": "text"
      },
      "source": [
        "<a href=\"https://colab.research.google.com/github/dostonshernazarov/Pnevmoniya-predict-deep-learning-model/blob/main/Pnevmoniya.ipynb\" target=\"_parent\"><img src=\"https://colab.research.google.com/assets/colab-badge.svg\" alt=\"Open In Colab\"/></a>"
      ]
    },
    {
      "source": [
        "\n",
        "# IMPORTANT: RUN THIS CELL IN ORDER TO IMPORT YOUR KAGGLE DATA SOURCES\n",
        "# TO THE CORRECT LOCATION (/kaggle/input) IN YOUR NOTEBOOK,\n",
        "# THEN FEEL FREE TO DELETE THIS CELL.\n",
        "# NOTE: THIS NOTEBOOK ENVIRONMENT DIFFERS FROM KAGGLE'S PYTHON\n",
        "# ENVIRONMENT SO THERE MAY BE MISSING LIBRARIES USED BY YOUR\n",
        "# NOTEBOOK.\n",
        "\n",
        "import os\n",
        "import sys\n",
        "from tempfile import NamedTemporaryFile\n",
        "from urllib.request import urlopen\n",
        "from urllib.parse import unquote, urlparse\n",
        "from urllib.error import HTTPError\n",
        "from zipfile import ZipFile\n",
        "import tarfile\n",
        "import shutil\n",
        "\n",
        "CHUNK_SIZE = 40960\n",
        "DATA_SOURCE_MAPPING = 'pnevmoniya:https%3A%2F%2Fstorage.googleapis.com%2Fkaggle-competitions-data%2Fkaggle-v2%2F36499%2F3618301%2Fbundle%2Farchive.zip%3FX-Goog-Algorithm%3DGOOG4-RSA-SHA256%26X-Goog-Credential%3Dgcp-kaggle-com%2540kaggle-161607.iam.gserviceaccount.com%252F20240612%252Fauto%252Fstorage%252Fgoog4_request%26X-Goog-Date%3D20240612T165550Z%26X-Goog-Expires%3D259200%26X-Goog-SignedHeaders%3Dhost%26X-Goog-Signature%3D971a6ef604f40169c483ff1af8a08f02bfea041034688ec61f8f5d3f96ca313565c400aef8440de96615f1a6930588eb8c139dab3ad8258f9a57d696d1cf7e8914c3c35f17d9bfe2e54e17deb7d4fe8c6d28d273bf62770db42f9b8cc6fa2a4896b9b96e6bb57f7ddd64196bacef045d99a524bde9a3d0fb1d1030924f9ca31f1338ff9689f7196f1d2c9942fdf67166bcb141bf69649a0334949f8f7f0d198683d2bd3dcca0d3d522651a5d07f55d407ad8f3a6b88b1c0093e1b30a4cda0bdf91311ae9540acb2f444b598614edaa7ac91cc52336762629cf336cc0370b6c8d08ba78048da7acbfdb04834d59113181448c3bb9ae3ef6da0cc017f2052291e2'\n",
        "\n",
        "KAGGLE_INPUT_PATH='/kaggle/input'\n",
        "KAGGLE_WORKING_PATH='/kaggle/working'\n",
        "KAGGLE_SYMLINK='kaggle'\n",
        "\n",
        "!umount /kaggle/input/ 2> /dev/null\n",
        "shutil.rmtree('/kaggle/input', ignore_errors=True)\n",
        "os.makedirs(KAGGLE_INPUT_PATH, 0o777, exist_ok=True)\n",
        "os.makedirs(KAGGLE_WORKING_PATH, 0o777, exist_ok=True)\n",
        "\n",
        "try:\n",
        "  os.symlink(KAGGLE_INPUT_PATH, os.path.join(\"..\", 'input'), target_is_directory=True)\n",
        "except FileExistsError:\n",
        "  pass\n",
        "try:\n",
        "  os.symlink(KAGGLE_WORKING_PATH, os.path.join(\"..\", 'working'), target_is_directory=True)\n",
        "except FileExistsError:\n",
        "  pass\n",
        "\n",
        "for data_source_mapping in DATA_SOURCE_MAPPING.split(','):\n",
        "    directory, download_url_encoded = data_source_mapping.split(':')\n",
        "    download_url = unquote(download_url_encoded)\n",
        "    filename = urlparse(download_url).path\n",
        "    destination_path = os.path.join(KAGGLE_INPUT_PATH, directory)\n",
        "    try:\n",
        "        with urlopen(download_url) as fileres, NamedTemporaryFile() as tfile:\n",
        "            total_length = fileres.headers['content-length']\n",
        "            print(f'Downloading {directory}, {total_length} bytes compressed')\n",
        "            dl = 0\n",
        "            data = fileres.read(CHUNK_SIZE)\n",
        "            while len(data) > 0:\n",
        "                dl += len(data)\n",
        "                tfile.write(data)\n",
        "                done = int(50 * dl / int(total_length))\n",
        "                sys.stdout.write(f\"\\r[{'=' * done}{' ' * (50-done)}] {dl} bytes downloaded\")\n",
        "                sys.stdout.flush()\n",
        "                data = fileres.read(CHUNK_SIZE)\n",
        "            if filename.endswith('.zip'):\n",
        "              with ZipFile(tfile) as zfile:\n",
        "                zfile.extractall(destination_path)\n",
        "            else:\n",
        "              with tarfile.open(tfile.name) as tarfile:\n",
        "                tarfile.extractall(destination_path)\n",
        "            print(f'\\nDownloaded and uncompressed: {directory}')\n",
        "    except HTTPError as e:\n",
        "        print(f'Failed to load (likely expired) {download_url} to path {destination_path}')\n",
        "        continue\n",
        "    except OSError as e:\n",
        "        print(f'Failed to load {download_url} to path {destination_path}')\n",
        "        continue\n",
        "\n",
        "print('Data source import complete.')\n"
      ],
      "metadata": {
        "id": "4C_pGmlKYKPh"
      },
      "cell_type": "code",
      "outputs": [],
      "execution_count": null
    },
    {
      "cell_type": "code",
      "source": [
        "# This Python 3 environment comes with many helpful analytics libraries installed\n",
        "# It is defined by the kaggle/python Docker image: https://github.com/kaggle/docker-python\n",
        "# For example, here's several helpful packages to load\n",
        "\n",
        "import numpy as np # linear algebra\n",
        "import pandas as pd # data processing, CSV file I/O (e.g. pd.read_csv)\n",
        "\n",
        "# Input data files are available in the read-only \"../input/\" directory\n",
        "# For example, running this (by clicking run or pressing Shift+Enter) will list all files under the input directory\n",
        "\n",
        "import os\n",
        "for dirname, _, filenames in os.walk('/kaggle/input'):\n",
        "    for filename in filenames:\n",
        "        print(os.path.join(dirname, filename))\n",
        "\n",
        "# You can write up to 20GB to the current directory (/kaggle/working/) that gets preserved as output when you create a version using \"Save & Run All\"\n",
        "# You can also write temporary files to /kaggle/temp/, but they won't be saved outside of the current session"
      ],
      "metadata": {
        "_uuid": "8f2839f25d086af736a60e9eeb907d3b93b6e0e5",
        "_cell_guid": "b1076dfc-b9ad-4769-8c92-a6c4dae69d19",
        "execution": {
          "iopub.status.busy": "2024-06-07T10:15:07.731309Z",
          "iopub.execute_input": "2024-06-07T10:15:07.73174Z",
          "iopub.status.idle": "2024-06-07T10:15:11.661949Z",
          "shell.execute_reply.started": "2024-06-07T10:15:07.731704Z",
          "shell.execute_reply": "2024-06-07T10:15:11.660664Z"
        },
        "trusted": true,
        "id": "eZ0tcmGBYKPl"
      },
      "execution_count": null,
      "outputs": []
    },
    {
      "cell_type": "code",
      "source": [
        "import torch\n",
        "import fastai"
      ],
      "metadata": {
        "execution": {
          "iopub.status.busy": "2024-06-07T10:43:28.235229Z",
          "iopub.execute_input": "2024-06-07T10:43:28.235593Z",
          "iopub.status.idle": "2024-06-07T10:43:31.74763Z",
          "shell.execute_reply.started": "2024-06-07T10:43:28.235561Z",
          "shell.execute_reply": "2024-06-07T10:43:31.746647Z"
        },
        "trusted": true,
        "id": "f8rRYmXeYKPm"
      },
      "execution_count": null,
      "outputs": []
    },
    {
      "cell_type": "code",
      "source": [
        "from fastai.vision.all import *\n",
        "from ipywidgets import widgets\n",
        "\n",
        "# #path\n",
        "path = Path(\"/kaggle/input/pnevmoniya/train\")\n",
        "\n",
        "# DataBlock\n",
        "CheckPnevmoniya = DataBlock(\n",
        "    blocks=(ImageBlock, CategoryBlock),\n",
        "    get_items = get_image_files,\n",
        "    splitter = RandomSplitter(valid_pct=0.2, seed=42),\n",
        "    get_y = parent_label,\n",
        "    item_tfms = Resize(224)\n",
        ")\n",
        "\n",
        "# DataLoader\n",
        "dls = CheckPnevmoniya.dataloaders(path)\n",
        "\n",
        "# # check dataset\n",
        "# dls.train.show_batch(max_n=32, nrows=4)\n",
        "\n",
        "# Train\n",
        "learn = cnn_learner(dls, resnet34, metrics = accuracy)\n",
        "learn.fine_tune(4)"
      ],
      "metadata": {
        "execution": {
          "iopub.status.busy": "2024-06-07T10:44:43.828193Z",
          "iopub.execute_input": "2024-06-07T10:44:43.828709Z",
          "iopub.status.idle": "2024-06-07T10:49:29.523414Z",
          "shell.execute_reply.started": "2024-06-07T10:44:43.828676Z",
          "shell.execute_reply": "2024-06-07T10:49:29.522399Z"
        },
        "trusted": true,
        "id": "uItpwQCmYKPn"
      },
      "execution_count": null,
      "outputs": []
    },
    {
      "cell_type": "code",
      "source": [
        "# Check Interpretation\n",
        "interp = ClassificationInterpretation.from_learner(learn)\n",
        "interp.plot_confusion_matrix(figsize=(16,9))"
      ],
      "metadata": {
        "execution": {
          "iopub.status.busy": "2024-06-07T10:50:19.387837Z",
          "iopub.execute_input": "2024-06-07T10:50:19.388639Z",
          "iopub.status.idle": "2024-06-07T10:50:41.458261Z",
          "shell.execute_reply.started": "2024-06-07T10:50:19.3886Z",
          "shell.execute_reply": "2024-06-07T10:50:41.457437Z"
        },
        "trusted": true,
        "id": "6_tdqnQWYKPo"
      },
      "execution_count": null,
      "outputs": []
    },
    {
      "cell_type": "code",
      "source": [
        "interp.plot_top_losses(5, nrows=1)"
      ],
      "metadata": {
        "execution": {
          "iopub.status.busy": "2024-06-07T10:50:53.578565Z",
          "iopub.execute_input": "2024-06-07T10:50:53.579302Z",
          "iopub.status.idle": "2024-06-07T10:50:54.561572Z",
          "shell.execute_reply.started": "2024-06-07T10:50:53.579265Z",
          "shell.execute_reply": "2024-06-07T10:50:54.560475Z"
        },
        "trusted": true,
        "id": "HkuOKGInYKPo"
      },
      "execution_count": null,
      "outputs": []
    },
    {
      "cell_type": "code",
      "source": [
        "learn.export(\"pnevmoniya_check_model.pkl\")"
      ],
      "metadata": {
        "execution": {
          "iopub.status.busy": "2024-06-07T11:05:09.454229Z",
          "iopub.execute_input": "2024-06-07T11:05:09.45494Z",
          "iopub.status.idle": "2024-06-07T11:05:09.638809Z",
          "shell.execute_reply.started": "2024-06-07T11:05:09.454907Z",
          "shell.execute_reply": "2024-06-07T11:05:09.63804Z"
        },
        "trusted": true,
        "id": "8OR0bOGvYKPo"
      },
      "execution_count": null,
      "outputs": []
    },
    {
      "cell_type": "code",
      "source": [],
      "metadata": {
        "id": "DxVa2hxuYKPp"
      },
      "execution_count": null,
      "outputs": []
    },
    {
      "cell_type": "code",
      "source": [],
      "metadata": {
        "id": "rncixgrzYKPs"
      },
      "execution_count": null,
      "outputs": []
    }
  ]
}